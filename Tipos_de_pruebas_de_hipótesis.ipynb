{
  "nbformat": 4,
  "nbformat_minor": 0,
  "metadata": {
    "colab": {
      "provenance": [],
      "authorship_tag": "ABX9TyOfGoGw3cD7LkNE5zIstJCH",
      "include_colab_link": true
    },
    "kernelspec": {
      "name": "python3",
      "display_name": "Python 3"
    },
    "language_info": {
      "name": "python"
    }
  },
  "cells": [
    {
      "cell_type": "markdown",
      "metadata": {
        "id": "view-in-github",
        "colab_type": "text"
      },
      "source": [
        "<a href=\"https://colab.research.google.com/github/electrojam/Curso-de-Estadistica-Inferencial-para-Data-Science-e-Inteligencia-Artificial/blob/main/Tipos_de_pruebas_de_hip%C3%B3tesis.ipynb\" target=\"_parent\"><img src=\"https://colab.research.google.com/assets/colab-badge.svg\" alt=\"Open In Colab\"/></a>"
      ]
    },
    {
      "cell_type": "markdown",
      "source": [
        "### Importar las librerías necesarias para el análisis"
      ],
      "metadata": {
        "id": "o1mT-QEUmDcI"
      }
    },
    {
      "cell_type": "code",
      "source": [
        "import pandas as pd\n",
        "import numpy as np\n",
        "import seaborn as sns\n",
        "import scipy.stats as st\n",
        "from scipy.stats import f_oneway\n",
        "from scipy.stats import ttest_ind"
      ],
      "metadata": {
        "id": "BE9q6c5GmH1H"
      },
      "execution_count": null,
      "outputs": []
    },
    {
      "cell_type": "markdown",
      "source": [
        "### De nuevo, usaremos la base de datos Iris"
      ],
      "metadata": {
        "id": "SBaef7SgmTrH"
      }
    },
    {
      "cell_type": "code",
      "source": [
        "url = 'https://archive.ics.uci.edu/ml/machine-learning-databases/iris/iris.data'\n",
        "names = ['sepal-length', 'sepal-width', 'petal-length', 'petal-width', 'class']\n",
        "iris = pd.read_csv(url, names=names)\n",
        "iris.head()"
      ],
      "metadata": {
        "id": "Js1LNdUYmShQ",
        "colab": {
          "base_uri": "https://localhost:8080/",
          "height": 206
        },
        "outputId": "ce4a4fa5-62cf-4186-e016-672d198b3d7c"
      },
      "execution_count": 3,
      "outputs": [
        {
          "output_type": "execute_result",
          "data": {
            "text/plain": [
              "   sepal-length  sepal-width  petal-length  petal-width        class\n",
              "0           5.1          3.5           1.4          0.2  Iris-setosa\n",
              "1           4.9          3.0           1.4          0.2  Iris-setosa\n",
              "2           4.7          3.2           1.3          0.2  Iris-setosa\n",
              "3           4.6          3.1           1.5          0.2  Iris-setosa\n",
              "4           5.0          3.6           1.4          0.2  Iris-setosa"
            ],
            "text/html": [
              "\n",
              "  <div id=\"df-0078ae33-a529-4988-9353-0739ff0c6815\" class=\"colab-df-container\">\n",
              "    <div>\n",
              "<style scoped>\n",
              "    .dataframe tbody tr th:only-of-type {\n",
              "        vertical-align: middle;\n",
              "    }\n",
              "\n",
              "    .dataframe tbody tr th {\n",
              "        vertical-align: top;\n",
              "    }\n",
              "\n",
              "    .dataframe thead th {\n",
              "        text-align: right;\n",
              "    }\n",
              "</style>\n",
              "<table border=\"1\" class=\"dataframe\">\n",
              "  <thead>\n",
              "    <tr style=\"text-align: right;\">\n",
              "      <th></th>\n",
              "      <th>sepal-length</th>\n",
              "      <th>sepal-width</th>\n",
              "      <th>petal-length</th>\n",
              "      <th>petal-width</th>\n",
              "      <th>class</th>\n",
              "    </tr>\n",
              "  </thead>\n",
              "  <tbody>\n",
              "    <tr>\n",
              "      <th>0</th>\n",
              "      <td>5.1</td>\n",
              "      <td>3.5</td>\n",
              "      <td>1.4</td>\n",
              "      <td>0.2</td>\n",
              "      <td>Iris-setosa</td>\n",
              "    </tr>\n",
              "    <tr>\n",
              "      <th>1</th>\n",
              "      <td>4.9</td>\n",
              "      <td>3.0</td>\n",
              "      <td>1.4</td>\n",
              "      <td>0.2</td>\n",
              "      <td>Iris-setosa</td>\n",
              "    </tr>\n",
              "    <tr>\n",
              "      <th>2</th>\n",
              "      <td>4.7</td>\n",
              "      <td>3.2</td>\n",
              "      <td>1.3</td>\n",
              "      <td>0.2</td>\n",
              "      <td>Iris-setosa</td>\n",
              "    </tr>\n",
              "    <tr>\n",
              "      <th>3</th>\n",
              "      <td>4.6</td>\n",
              "      <td>3.1</td>\n",
              "      <td>1.5</td>\n",
              "      <td>0.2</td>\n",
              "      <td>Iris-setosa</td>\n",
              "    </tr>\n",
              "    <tr>\n",
              "      <th>4</th>\n",
              "      <td>5.0</td>\n",
              "      <td>3.6</td>\n",
              "      <td>1.4</td>\n",
              "      <td>0.2</td>\n",
              "      <td>Iris-setosa</td>\n",
              "    </tr>\n",
              "  </tbody>\n",
              "</table>\n",
              "</div>\n",
              "    <div class=\"colab-df-buttons\">\n",
              "\n",
              "  <div class=\"colab-df-container\">\n",
              "    <button class=\"colab-df-convert\" onclick=\"convertToInteractive('df-0078ae33-a529-4988-9353-0739ff0c6815')\"\n",
              "            title=\"Convert this dataframe to an interactive table.\"\n",
              "            style=\"display:none;\">\n",
              "\n",
              "  <svg xmlns=\"http://www.w3.org/2000/svg\" height=\"24px\" viewBox=\"0 -960 960 960\">\n",
              "    <path d=\"M120-120v-720h720v720H120Zm60-500h600v-160H180v160Zm220 220h160v-160H400v160Zm0 220h160v-160H400v160ZM180-400h160v-160H180v160Zm440 0h160v-160H620v160ZM180-180h160v-160H180v160Zm440 0h160v-160H620v160Z\"/>\n",
              "  </svg>\n",
              "    </button>\n",
              "\n",
              "  <style>\n",
              "    .colab-df-container {\n",
              "      display:flex;\n",
              "      gap: 12px;\n",
              "    }\n",
              "\n",
              "    .colab-df-convert {\n",
              "      background-color: #E8F0FE;\n",
              "      border: none;\n",
              "      border-radius: 50%;\n",
              "      cursor: pointer;\n",
              "      display: none;\n",
              "      fill: #1967D2;\n",
              "      height: 32px;\n",
              "      padding: 0 0 0 0;\n",
              "      width: 32px;\n",
              "    }\n",
              "\n",
              "    .colab-df-convert:hover {\n",
              "      background-color: #E2EBFA;\n",
              "      box-shadow: 0px 1px 2px rgba(60, 64, 67, 0.3), 0px 1px 3px 1px rgba(60, 64, 67, 0.15);\n",
              "      fill: #174EA6;\n",
              "    }\n",
              "\n",
              "    .colab-df-buttons div {\n",
              "      margin-bottom: 4px;\n",
              "    }\n",
              "\n",
              "    [theme=dark] .colab-df-convert {\n",
              "      background-color: #3B4455;\n",
              "      fill: #D2E3FC;\n",
              "    }\n",
              "\n",
              "    [theme=dark] .colab-df-convert:hover {\n",
              "      background-color: #434B5C;\n",
              "      box-shadow: 0px 1px 3px 1px rgba(0, 0, 0, 0.15);\n",
              "      filter: drop-shadow(0px 1px 2px rgba(0, 0, 0, 0.3));\n",
              "      fill: #FFFFFF;\n",
              "    }\n",
              "  </style>\n",
              "\n",
              "    <script>\n",
              "      const buttonEl =\n",
              "        document.querySelector('#df-0078ae33-a529-4988-9353-0739ff0c6815 button.colab-df-convert');\n",
              "      buttonEl.style.display =\n",
              "        google.colab.kernel.accessAllowed ? 'block' : 'none';\n",
              "\n",
              "      async function convertToInteractive(key) {\n",
              "        const element = document.querySelector('#df-0078ae33-a529-4988-9353-0739ff0c6815');\n",
              "        const dataTable =\n",
              "          await google.colab.kernel.invokeFunction('convertToInteractive',\n",
              "                                                    [key], {});\n",
              "        if (!dataTable) return;\n",
              "\n",
              "        const docLinkHtml = 'Like what you see? Visit the ' +\n",
              "          '<a target=\"_blank\" href=https://colab.research.google.com/notebooks/data_table.ipynb>data table notebook</a>'\n",
              "          + ' to learn more about interactive tables.';\n",
              "        element.innerHTML = '';\n",
              "        dataTable['output_type'] = 'display_data';\n",
              "        await google.colab.output.renderOutput(dataTable, element);\n",
              "        const docLink = document.createElement('div');\n",
              "        docLink.innerHTML = docLinkHtml;\n",
              "        element.appendChild(docLink);\n",
              "      }\n",
              "    </script>\n",
              "  </div>\n",
              "\n",
              "\n",
              "<div id=\"df-f1da28de-3121-4040-ae8b-532e322ff73e\">\n",
              "  <button class=\"colab-df-quickchart\" onclick=\"quickchart('df-f1da28de-3121-4040-ae8b-532e322ff73e')\"\n",
              "            title=\"Suggest charts\"\n",
              "            style=\"display:none;\">\n",
              "\n",
              "<svg xmlns=\"http://www.w3.org/2000/svg\" height=\"24px\"viewBox=\"0 0 24 24\"\n",
              "     width=\"24px\">\n",
              "    <g>\n",
              "        <path d=\"M19 3H5c-1.1 0-2 .9-2 2v14c0 1.1.9 2 2 2h14c1.1 0 2-.9 2-2V5c0-1.1-.9-2-2-2zM9 17H7v-7h2v7zm4 0h-2V7h2v10zm4 0h-2v-4h2v4z\"/>\n",
              "    </g>\n",
              "</svg>\n",
              "  </button>\n",
              "\n",
              "<style>\n",
              "  .colab-df-quickchart {\n",
              "      --bg-color: #E8F0FE;\n",
              "      --fill-color: #1967D2;\n",
              "      --hover-bg-color: #E2EBFA;\n",
              "      --hover-fill-color: #174EA6;\n",
              "      --disabled-fill-color: #AAA;\n",
              "      --disabled-bg-color: #DDD;\n",
              "  }\n",
              "\n",
              "  [theme=dark] .colab-df-quickchart {\n",
              "      --bg-color: #3B4455;\n",
              "      --fill-color: #D2E3FC;\n",
              "      --hover-bg-color: #434B5C;\n",
              "      --hover-fill-color: #FFFFFF;\n",
              "      --disabled-bg-color: #3B4455;\n",
              "      --disabled-fill-color: #666;\n",
              "  }\n",
              "\n",
              "  .colab-df-quickchart {\n",
              "    background-color: var(--bg-color);\n",
              "    border: none;\n",
              "    border-radius: 50%;\n",
              "    cursor: pointer;\n",
              "    display: none;\n",
              "    fill: var(--fill-color);\n",
              "    height: 32px;\n",
              "    padding: 0;\n",
              "    width: 32px;\n",
              "  }\n",
              "\n",
              "  .colab-df-quickchart:hover {\n",
              "    background-color: var(--hover-bg-color);\n",
              "    box-shadow: 0 1px 2px rgba(60, 64, 67, 0.3), 0 1px 3px 1px rgba(60, 64, 67, 0.15);\n",
              "    fill: var(--button-hover-fill-color);\n",
              "  }\n",
              "\n",
              "  .colab-df-quickchart-complete:disabled,\n",
              "  .colab-df-quickchart-complete:disabled:hover {\n",
              "    background-color: var(--disabled-bg-color);\n",
              "    fill: var(--disabled-fill-color);\n",
              "    box-shadow: none;\n",
              "  }\n",
              "\n",
              "  .colab-df-spinner {\n",
              "    border: 2px solid var(--fill-color);\n",
              "    border-color: transparent;\n",
              "    border-bottom-color: var(--fill-color);\n",
              "    animation:\n",
              "      spin 1s steps(1) infinite;\n",
              "  }\n",
              "\n",
              "  @keyframes spin {\n",
              "    0% {\n",
              "      border-color: transparent;\n",
              "      border-bottom-color: var(--fill-color);\n",
              "      border-left-color: var(--fill-color);\n",
              "    }\n",
              "    20% {\n",
              "      border-color: transparent;\n",
              "      border-left-color: var(--fill-color);\n",
              "      border-top-color: var(--fill-color);\n",
              "    }\n",
              "    30% {\n",
              "      border-color: transparent;\n",
              "      border-left-color: var(--fill-color);\n",
              "      border-top-color: var(--fill-color);\n",
              "      border-right-color: var(--fill-color);\n",
              "    }\n",
              "    40% {\n",
              "      border-color: transparent;\n",
              "      border-right-color: var(--fill-color);\n",
              "      border-top-color: var(--fill-color);\n",
              "    }\n",
              "    60% {\n",
              "      border-color: transparent;\n",
              "      border-right-color: var(--fill-color);\n",
              "    }\n",
              "    80% {\n",
              "      border-color: transparent;\n",
              "      border-right-color: var(--fill-color);\n",
              "      border-bottom-color: var(--fill-color);\n",
              "    }\n",
              "    90% {\n",
              "      border-color: transparent;\n",
              "      border-bottom-color: var(--fill-color);\n",
              "    }\n",
              "  }\n",
              "</style>\n",
              "\n",
              "  <script>\n",
              "    async function quickchart(key) {\n",
              "      const quickchartButtonEl =\n",
              "        document.querySelector('#' + key + ' button');\n",
              "      quickchartButtonEl.disabled = true;  // To prevent multiple clicks.\n",
              "      quickchartButtonEl.classList.add('colab-df-spinner');\n",
              "      try {\n",
              "        const charts = await google.colab.kernel.invokeFunction(\n",
              "            'suggestCharts', [key], {});\n",
              "      } catch (error) {\n",
              "        console.error('Error during call to suggestCharts:', error);\n",
              "      }\n",
              "      quickchartButtonEl.classList.remove('colab-df-spinner');\n",
              "      quickchartButtonEl.classList.add('colab-df-quickchart-complete');\n",
              "    }\n",
              "    (() => {\n",
              "      let quickchartButtonEl =\n",
              "        document.querySelector('#df-f1da28de-3121-4040-ae8b-532e322ff73e button');\n",
              "      quickchartButtonEl.style.display =\n",
              "        google.colab.kernel.accessAllowed ? 'block' : 'none';\n",
              "    })();\n",
              "  </script>\n",
              "</div>\n",
              "\n",
              "    </div>\n",
              "  </div>\n"
            ],
            "application/vnd.google.colaboratory.intrinsic+json": {
              "type": "dataframe",
              "variable_name": "iris",
              "summary": "{\n  \"name\": \"iris\",\n  \"rows\": 150,\n  \"fields\": [\n    {\n      \"column\": \"sepal-length\",\n      \"properties\": {\n        \"dtype\": \"number\",\n        \"std\": 0.828066127977863,\n        \"min\": 4.3,\n        \"max\": 7.9,\n        \"samples\": [\n          6.2,\n          4.5,\n          5.6\n        ],\n        \"num_unique_values\": 35,\n        \"semantic_type\": \"\",\n        \"description\": \"\"\n      }\n    },\n    {\n      \"column\": \"sepal-width\",\n      \"properties\": {\n        \"dtype\": \"number\",\n        \"std\": 0.4335943113621737,\n        \"min\": 2.0,\n        \"max\": 4.4,\n        \"samples\": [\n          2.3,\n          4.0,\n          3.5\n        ],\n        \"num_unique_values\": 23,\n        \"semantic_type\": \"\",\n        \"description\": \"\"\n      }\n    },\n    {\n      \"column\": \"petal-length\",\n      \"properties\": {\n        \"dtype\": \"number\",\n        \"std\": 1.7644204199522626,\n        \"min\": 1.0,\n        \"max\": 6.9,\n        \"samples\": [\n          6.7,\n          3.8,\n          3.7\n        ],\n        \"num_unique_values\": 43,\n        \"semantic_type\": \"\",\n        \"description\": \"\"\n      }\n    },\n    {\n      \"column\": \"petal-width\",\n      \"properties\": {\n        \"dtype\": \"number\",\n        \"std\": 0.7631607417008411,\n        \"min\": 0.1,\n        \"max\": 2.5,\n        \"samples\": [\n          0.2,\n          1.2,\n          1.3\n        ],\n        \"num_unique_values\": 22,\n        \"semantic_type\": \"\",\n        \"description\": \"\"\n      }\n    },\n    {\n      \"column\": \"class\",\n      \"properties\": {\n        \"dtype\": \"category\",\n        \"samples\": [\n          \"Iris-setosa\",\n          \"Iris-versicolor\",\n          \"Iris-virginica\"\n        ],\n        \"num_unique_values\": 3,\n        \"semantic_type\": \"\",\n        \"description\": \"\"\n      }\n    }\n  ]\n}"
            }
          },
          "metadata": {},
          "execution_count": 3
        }
      ]
    },
    {
      "cell_type": "markdown",
      "source": [
        "### Tipos de pruebas"
      ],
      "metadata": {
        "id": "a1xOHqSxpU29"
      }
    },
    {
      "cell_type": "markdown",
      "source": [
        "### a) Distribución t de Student"
      ],
      "metadata": {
        "id": "S8X5vozDpaIO"
      }
    },
    {
      "cell_type": "markdown",
      "source": [
        "![image.png](data:image/png;base64,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)"
      ],
      "metadata": {
        "id": "j7BCl8RTpese"
      }
    },
    {
      "cell_type": "code",
      "source": [
        "# SE = standard error\n",
        "# N muestra\n",
        "\n",
        "se_length = iris.std()['sepal-length']/np.sqrt(10)\n",
        "se_width = iris.std()['sepal-width']/np.sqrt(10)"
      ],
      "metadata": {
        "colab": {
          "base_uri": "https://localhost:8080/"
        },
        "id": "IlFUe8Ztpprl",
        "outputId": "17ddecc7-0651-4bcd-d5c4-68c5bb97be83"
      },
      "execution_count": 5,
      "outputs": [
        {
          "output_type": "stream",
          "name": "stderr",
          "text": [
            "<ipython-input-5-8f4a3cd6dc99>:4: FutureWarning: The default value of numeric_only in DataFrame.std is deprecated. In a future version, it will default to False. In addition, specifying 'numeric_only=None' is deprecated. Select only valid columns or specify the value of numeric_only to silence this warning.\n",
            "  se_length = iris.std()['sepal-length']/np.sqrt(10)\n",
            "<ipython-input-5-8f4a3cd6dc99>:5: FutureWarning: The default value of numeric_only in DataFrame.std is deprecated. In a future version, it will default to False. In addition, specifying 'numeric_only=None' is deprecated. Select only valid columns or specify the value of numeric_only to silence this warning.\n",
            "  se_width = iris.std()['sepal-width']/np.sqrt(10)\n"
          ]
        }
      ]
    },
    {
      "cell_type": "markdown",
      "source": [
        "![image.png](data:image/png;base64,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)"
      ],
      "metadata": {
        "id": "h1xlbKk-qbDd"
      }
    },
    {
      "cell_type": "code",
      "source": [
        "# SED = standard error desviation\n",
        "\n",
        "sed = np.sqrt((se_length**2)+(se_width**2))"
      ],
      "metadata": {
        "id": "9TML5uAcqkRU"
      },
      "execution_count": 6,
      "outputs": []
    },
    {
      "cell_type": "markdown",
      "source": [
        "![image.png](data:image/png;base64,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) ![image.png](data:image/png;base64,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)"
      ],
      "metadata": {
        "id": "xlTpLE0Fq1JN"
      }
    },
    {
      "cell_type": "code",
      "source": [
        "t_stat = (iris.mean()['sepal-length']-iris.mean()['sepal-width'])/sed\n",
        "t_stat"
      ],
      "metadata": {
        "colab": {
          "base_uri": "https://localhost:8080/"
        },
        "id": "HpzRCUULq9PF",
        "outputId": "3fcde9e8-5323-42db-e076-60afb3846fcc"
      },
      "execution_count": 8,
      "outputs": [
        {
          "output_type": "stream",
          "name": "stderr",
          "text": [
            "<ipython-input-8-906994a1a2e5>:1: FutureWarning: The default value of numeric_only in DataFrame.mean is deprecated. In a future version, it will default to False. In addition, specifying 'numeric_only=None' is deprecated. Select only valid columns or specify the value of numeric_only to silence this warning.\n",
            "  t_stat = (iris.mean()['sepal-length']-iris.mean()['sepal-width'])/sed\n",
            "<ipython-input-8-906994a1a2e5>:1: FutureWarning: The default value of numeric_only in DataFrame.mean is deprecated. In a future version, it will default to False. In addition, specifying 'numeric_only=None' is deprecated. Select only valid columns or specify the value of numeric_only to silence this warning.\n",
            "  t_stat = (iris.mean()['sepal-length']-iris.mean()['sepal-width'])/sed\n"
          ]
        },
        {
          "output_type": "execute_result",
          "data": {
            "text/plain": [
              "9.436693738890318"
            ]
          },
          "metadata": {},
          "execution_count": 8
        }
      ]
    },
    {
      "cell_type": "code",
      "source": [
        "p = ttest_ind(iris['sepal-length'], iris['sepal-width'])\n",
        "p"
      ],
      "metadata": {
        "colab": {
          "base_uri": "https://localhost:8080/"
        },
        "id": "BJAhGkBIrmu9",
        "outputId": "4e8f46b0-bad2-4ce1-f7a0-a00bf63c82c1"
      },
      "execution_count": 9,
      "outputs": [
        {
          "output_type": "execute_result",
          "data": {
            "text/plain": [
              "TtestResult(statistic=36.548157693982006, pvalue=3.987838114848222e-112, df=298.0)"
            ]
          },
          "metadata": {},
          "execution_count": 9
        }
      ]
    },
    {
      "cell_type": "markdown",
      "source": [
        "#### Se rechaza hipótesis nula porque el valor de t es mucho mayor que pvalue, es decir que la distribución entre las dos variables sepal-length y sepal-width son muy diferentes."
      ],
      "metadata": {
        "id": "FbEWlHLosP4E"
      }
    },
    {
      "cell_type": "code",
      "source": [],
      "metadata": {
        "id": "nJhTBKWesWAT"
      },
      "execution_count": null,
      "outputs": []
    }
  ]
}