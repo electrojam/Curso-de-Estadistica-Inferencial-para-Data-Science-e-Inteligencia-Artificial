{
  "nbformat": 4,
  "nbformat_minor": 0,
  "metadata": {
    "colab": {
      "provenance": [],
      "authorship_tag": "ABX9TyOylZ0EHoQvdGLGR7ZBMnyE",
      "include_colab_link": true
    },
    "kernelspec": {
      "name": "python3",
      "display_name": "Python 3"
    },
    "language_info": {
      "name": "python"
    }
  },
  "cells": [
    {
      "cell_type": "markdown",
      "metadata": {
        "id": "view-in-github",
        "colab_type": "text"
      },
      "source": [
        "<a href=\"https://colab.research.google.com/github/electrojam/Curso-de-Estadistica-Inferencial-para-Data-Science-e-Inteligencia-Artificial/blob/main/Varianza_y_desviaci%C3%B3n_est%C3%A1ndar_muestral.ipynb\" target=\"_parent\"><img src=\"https://colab.research.google.com/assets/colab-badge.svg\" alt=\"Open In Colab\"/></a>"
      ]
    },
    {
      "cell_type": "markdown",
      "source": [
        "###  Importamos la librería necesarias para el análisis"
      ],
      "metadata": {
        "id": "2P5ew9-NxbgU"
      }
    },
    {
      "cell_type": "code",
      "source": [
        "import pandas as pd\n",
        "import numpy as np\n",
        "import matplotlib.pyplot as plt\n",
        "import seaborn as sns"
      ],
      "metadata": {
        "id": "vbX8WgNkxgHo"
      },
      "execution_count": null,
      "outputs": []
    },
    {
      "cell_type": "markdown",
      "source": [
        "### Leemos la base de datos a trabajar en nuestra ruta de origen"
      ],
      "metadata": {
        "id": "3O3ACQvby1xQ"
      }
    },
    {
      "cell_type": "code",
      "source": [
        "url = 'https://archive.ics.uci.edu/ml/machine-learning-databases/iris/iris.data'\n",
        "names = ['sepal-length', 'sepal-width', 'petal-length', 'petal-width', 'class']\n",
        "iris = pd.read_csv(url, names = names)"
      ],
      "metadata": {
        "id": "l3UjfPOLy58o"
      },
      "execution_count": null,
      "outputs": []
    },
    {
      "cell_type": "code",
      "source": [
        "iris.head()"
      ],
      "metadata": {
        "colab": {
          "base_uri": "https://localhost:8080/",
          "height": 206
        },
        "id": "5Z2iGwcxExlr",
        "outputId": "7a7e9ebc-2ac2-4d34-f8c9-6308508ff42b"
      },
      "execution_count": null,
      "outputs": [
        {
          "output_type": "execute_result",
          "data": {
            "text/plain": [
              "   sepal-length  sepal-width  petal-length  petal-width        class\n",
              "0           5.1          3.5           1.4          0.2  Iris-setosa\n",
              "1           4.9          3.0           1.4          0.2  Iris-setosa\n",
              "2           4.7          3.2           1.3          0.2  Iris-setosa\n",
              "3           4.6          3.1           1.5          0.2  Iris-setosa\n",
              "4           5.0          3.6           1.4          0.2  Iris-setosa"
            ],
            "text/html": [
              "\n",
              "  <div id=\"df-49e50ab2-c12f-406d-b3fa-af485947f235\" class=\"colab-df-container\">\n",
              "    <div>\n",
              "<style scoped>\n",
              "    .dataframe tbody tr th:only-of-type {\n",
              "        vertical-align: middle;\n",
              "    }\n",
              "\n",
              "    .dataframe tbody tr th {\n",
              "        vertical-align: top;\n",
              "    }\n",
              "\n",
              "    .dataframe thead th {\n",
              "        text-align: right;\n",
              "    }\n",
              "</style>\n",
              "<table border=\"1\" class=\"dataframe\">\n",
              "  <thead>\n",
              "    <tr style=\"text-align: right;\">\n",
              "      <th></th>\n",
              "      <th>sepal-length</th>\n",
              "      <th>sepal-width</th>\n",
              "      <th>petal-length</th>\n",
              "      <th>petal-width</th>\n",
              "      <th>class</th>\n",
              "    </tr>\n",
              "  </thead>\n",
              "  <tbody>\n",
              "    <tr>\n",
              "      <th>0</th>\n",
              "      <td>5.1</td>\n",
              "      <td>3.5</td>\n",
              "      <td>1.4</td>\n",
              "      <td>0.2</td>\n",
              "      <td>Iris-setosa</td>\n",
              "    </tr>\n",
              "    <tr>\n",
              "      <th>1</th>\n",
              "      <td>4.9</td>\n",
              "      <td>3.0</td>\n",
              "      <td>1.4</td>\n",
              "      <td>0.2</td>\n",
              "      <td>Iris-setosa</td>\n",
              "    </tr>\n",
              "    <tr>\n",
              "      <th>2</th>\n",
              "      <td>4.7</td>\n",
              "      <td>3.2</td>\n",
              "      <td>1.3</td>\n",
              "      <td>0.2</td>\n",
              "      <td>Iris-setosa</td>\n",
              "    </tr>\n",
              "    <tr>\n",
              "      <th>3</th>\n",
              "      <td>4.6</td>\n",
              "      <td>3.1</td>\n",
              "      <td>1.5</td>\n",
              "      <td>0.2</td>\n",
              "      <td>Iris-setosa</td>\n",
              "    </tr>\n",
              "    <tr>\n",
              "      <th>4</th>\n",
              "      <td>5.0</td>\n",
              "      <td>3.6</td>\n",
              "      <td>1.4</td>\n",
              "      <td>0.2</td>\n",
              "      <td>Iris-setosa</td>\n",
              "    </tr>\n",
              "  </tbody>\n",
              "</table>\n",
              "</div>\n",
              "    <div class=\"colab-df-buttons\">\n",
              "\n",
              "  <div class=\"colab-df-container\">\n",
              "    <button class=\"colab-df-convert\" onclick=\"convertToInteractive('df-49e50ab2-c12f-406d-b3fa-af485947f235')\"\n",
              "            title=\"Convert this dataframe to an interactive table.\"\n",
              "            style=\"display:none;\">\n",
              "\n",
              "  <svg xmlns=\"http://www.w3.org/2000/svg\" height=\"24px\" viewBox=\"0 -960 960 960\">\n",
              "    <path d=\"M120-120v-720h720v720H120Zm60-500h600v-160H180v160Zm220 220h160v-160H400v160Zm0 220h160v-160H400v160ZM180-400h160v-160H180v160Zm440 0h160v-160H620v160ZM180-180h160v-160H180v160Zm440 0h160v-160H620v160Z\"/>\n",
              "  </svg>\n",
              "    </button>\n",
              "\n",
              "  <style>\n",
              "    .colab-df-container {\n",
              "      display:flex;\n",
              "      gap: 12px;\n",
              "    }\n",
              "\n",
              "    .colab-df-convert {\n",
              "      background-color: #E8F0FE;\n",
              "      border: none;\n",
              "      border-radius: 50%;\n",
              "      cursor: pointer;\n",
              "      display: none;\n",
              "      fill: #1967D2;\n",
              "      height: 32px;\n",
              "      padding: 0 0 0 0;\n",
              "      width: 32px;\n",
              "    }\n",
              "\n",
              "    .colab-df-convert:hover {\n",
              "      background-color: #E2EBFA;\n",
              "      box-shadow: 0px 1px 2px rgba(60, 64, 67, 0.3), 0px 1px 3px 1px rgba(60, 64, 67, 0.15);\n",
              "      fill: #174EA6;\n",
              "    }\n",
              "\n",
              "    .colab-df-buttons div {\n",
              "      margin-bottom: 4px;\n",
              "    }\n",
              "\n",
              "    [theme=dark] .colab-df-convert {\n",
              "      background-color: #3B4455;\n",
              "      fill: #D2E3FC;\n",
              "    }\n",
              "\n",
              "    [theme=dark] .colab-df-convert:hover {\n",
              "      background-color: #434B5C;\n",
              "      box-shadow: 0px 1px 3px 1px rgba(0, 0, 0, 0.15);\n",
              "      filter: drop-shadow(0px 1px 2px rgba(0, 0, 0, 0.3));\n",
              "      fill: #FFFFFF;\n",
              "    }\n",
              "  </style>\n",
              "\n",
              "    <script>\n",
              "      const buttonEl =\n",
              "        document.querySelector('#df-49e50ab2-c12f-406d-b3fa-af485947f235 button.colab-df-convert');\n",
              "      buttonEl.style.display =\n",
              "        google.colab.kernel.accessAllowed ? 'block' : 'none';\n",
              "\n",
              "      async function convertToInteractive(key) {\n",
              "        const element = document.querySelector('#df-49e50ab2-c12f-406d-b3fa-af485947f235');\n",
              "        const dataTable =\n",
              "          await google.colab.kernel.invokeFunction('convertToInteractive',\n",
              "                                                    [key], {});\n",
              "        if (!dataTable) return;\n",
              "\n",
              "        const docLinkHtml = 'Like what you see? Visit the ' +\n",
              "          '<a target=\"_blank\" href=https://colab.research.google.com/notebooks/data_table.ipynb>data table notebook</a>'\n",
              "          + ' to learn more about interactive tables.';\n",
              "        element.innerHTML = '';\n",
              "        dataTable['output_type'] = 'display_data';\n",
              "        await google.colab.output.renderOutput(dataTable, element);\n",
              "        const docLink = document.createElement('div');\n",
              "        docLink.innerHTML = docLinkHtml;\n",
              "        element.appendChild(docLink);\n",
              "      }\n",
              "    </script>\n",
              "  </div>\n",
              "\n",
              "\n",
              "<div id=\"df-232f34d5-2375-432a-95c6-e6ba774a0742\">\n",
              "  <button class=\"colab-df-quickchart\" onclick=\"quickchart('df-232f34d5-2375-432a-95c6-e6ba774a0742')\"\n",
              "            title=\"Suggest charts\"\n",
              "            style=\"display:none;\">\n",
              "\n",
              "<svg xmlns=\"http://www.w3.org/2000/svg\" height=\"24px\"viewBox=\"0 0 24 24\"\n",
              "     width=\"24px\">\n",
              "    <g>\n",
              "        <path d=\"M19 3H5c-1.1 0-2 .9-2 2v14c0 1.1.9 2 2 2h14c1.1 0 2-.9 2-2V5c0-1.1-.9-2-2-2zM9 17H7v-7h2v7zm4 0h-2V7h2v10zm4 0h-2v-4h2v4z\"/>\n",
              "    </g>\n",
              "</svg>\n",
              "  </button>\n",
              "\n",
              "<style>\n",
              "  .colab-df-quickchart {\n",
              "      --bg-color: #E8F0FE;\n",
              "      --fill-color: #1967D2;\n",
              "      --hover-bg-color: #E2EBFA;\n",
              "      --hover-fill-color: #174EA6;\n",
              "      --disabled-fill-color: #AAA;\n",
              "      --disabled-bg-color: #DDD;\n",
              "  }\n",
              "\n",
              "  [theme=dark] .colab-df-quickchart {\n",
              "      --bg-color: #3B4455;\n",
              "      --fill-color: #D2E3FC;\n",
              "      --hover-bg-color: #434B5C;\n",
              "      --hover-fill-color: #FFFFFF;\n",
              "      --disabled-bg-color: #3B4455;\n",
              "      --disabled-fill-color: #666;\n",
              "  }\n",
              "\n",
              "  .colab-df-quickchart {\n",
              "    background-color: var(--bg-color);\n",
              "    border: none;\n",
              "    border-radius: 50%;\n",
              "    cursor: pointer;\n",
              "    display: none;\n",
              "    fill: var(--fill-color);\n",
              "    height: 32px;\n",
              "    padding: 0;\n",
              "    width: 32px;\n",
              "  }\n",
              "\n",
              "  .colab-df-quickchart:hover {\n",
              "    background-color: var(--hover-bg-color);\n",
              "    box-shadow: 0 1px 2px rgba(60, 64, 67, 0.3), 0 1px 3px 1px rgba(60, 64, 67, 0.15);\n",
              "    fill: var(--button-hover-fill-color);\n",
              "  }\n",
              "\n",
              "  .colab-df-quickchart-complete:disabled,\n",
              "  .colab-df-quickchart-complete:disabled:hover {\n",
              "    background-color: var(--disabled-bg-color);\n",
              "    fill: var(--disabled-fill-color);\n",
              "    box-shadow: none;\n",
              "  }\n",
              "\n",
              "  .colab-df-spinner {\n",
              "    border: 2px solid var(--fill-color);\n",
              "    border-color: transparent;\n",
              "    border-bottom-color: var(--fill-color);\n",
              "    animation:\n",
              "      spin 1s steps(1) infinite;\n",
              "  }\n",
              "\n",
              "  @keyframes spin {\n",
              "    0% {\n",
              "      border-color: transparent;\n",
              "      border-bottom-color: var(--fill-color);\n",
              "      border-left-color: var(--fill-color);\n",
              "    }\n",
              "    20% {\n",
              "      border-color: transparent;\n",
              "      border-left-color: var(--fill-color);\n",
              "      border-top-color: var(--fill-color);\n",
              "    }\n",
              "    30% {\n",
              "      border-color: transparent;\n",
              "      border-left-color: var(--fill-color);\n",
              "      border-top-color: var(--fill-color);\n",
              "      border-right-color: var(--fill-color);\n",
              "    }\n",
              "    40% {\n",
              "      border-color: transparent;\n",
              "      border-right-color: var(--fill-color);\n",
              "      border-top-color: var(--fill-color);\n",
              "    }\n",
              "    60% {\n",
              "      border-color: transparent;\n",
              "      border-right-color: var(--fill-color);\n",
              "    }\n",
              "    80% {\n",
              "      border-color: transparent;\n",
              "      border-right-color: var(--fill-color);\n",
              "      border-bottom-color: var(--fill-color);\n",
              "    }\n",
              "    90% {\n",
              "      border-color: transparent;\n",
              "      border-bottom-color: var(--fill-color);\n",
              "    }\n",
              "  }\n",
              "</style>\n",
              "\n",
              "  <script>\n",
              "    async function quickchart(key) {\n",
              "      const quickchartButtonEl =\n",
              "        document.querySelector('#' + key + ' button');\n",
              "      quickchartButtonEl.disabled = true;  // To prevent multiple clicks.\n",
              "      quickchartButtonEl.classList.add('colab-df-spinner');\n",
              "      try {\n",
              "        const charts = await google.colab.kernel.invokeFunction(\n",
              "            'suggestCharts', [key], {});\n",
              "      } catch (error) {\n",
              "        console.error('Error during call to suggestCharts:', error);\n",
              "      }\n",
              "      quickchartButtonEl.classList.remove('colab-df-spinner');\n",
              "      quickchartButtonEl.classList.add('colab-df-quickchart-complete');\n",
              "    }\n",
              "    (() => {\n",
              "      let quickchartButtonEl =\n",
              "        document.querySelector('#df-232f34d5-2375-432a-95c6-e6ba774a0742 button');\n",
              "      quickchartButtonEl.style.display =\n",
              "        google.colab.kernel.accessAllowed ? 'block' : 'none';\n",
              "    })();\n",
              "  </script>\n",
              "</div>\n",
              "\n",
              "    </div>\n",
              "  </div>\n"
            ],
            "application/vnd.google.colaboratory.intrinsic+json": {
              "type": "dataframe",
              "variable_name": "iris",
              "summary": "{\n  \"name\": \"iris\",\n  \"rows\": 150,\n  \"fields\": [\n    {\n      \"column\": \"sepal-length\",\n      \"properties\": {\n        \"dtype\": \"number\",\n        \"std\": 0.828066127977863,\n        \"min\": 4.3,\n        \"max\": 7.9,\n        \"samples\": [\n          6.2,\n          4.5,\n          5.6\n        ],\n        \"num_unique_values\": 35,\n        \"semantic_type\": \"\",\n        \"description\": \"\"\n      }\n    },\n    {\n      \"column\": \"sepal-width\",\n      \"properties\": {\n        \"dtype\": \"number\",\n        \"std\": 0.4335943113621737,\n        \"min\": 2.0,\n        \"max\": 4.4,\n        \"samples\": [\n          2.3,\n          4.0,\n          3.5\n        ],\n        \"num_unique_values\": 23,\n        \"semantic_type\": \"\",\n        \"description\": \"\"\n      }\n    },\n    {\n      \"column\": \"petal-length\",\n      \"properties\": {\n        \"dtype\": \"number\",\n        \"std\": 1.7644204199522626,\n        \"min\": 1.0,\n        \"max\": 6.9,\n        \"samples\": [\n          6.7,\n          3.8,\n          3.7\n        ],\n        \"num_unique_values\": 43,\n        \"semantic_type\": \"\",\n        \"description\": \"\"\n      }\n    },\n    {\n      \"column\": \"petal-width\",\n      \"properties\": {\n        \"dtype\": \"number\",\n        \"std\": 0.7631607417008411,\n        \"min\": 0.1,\n        \"max\": 2.5,\n        \"samples\": [\n          0.2,\n          1.2,\n          1.3\n        ],\n        \"num_unique_values\": 22,\n        \"semantic_type\": \"\",\n        \"description\": \"\"\n      }\n    },\n    {\n      \"column\": \"class\",\n      \"properties\": {\n        \"dtype\": \"category\",\n        \"samples\": [\n          \"Iris-setosa\",\n          \"Iris-versicolor\",\n          \"Iris-virginica\"\n        ],\n        \"num_unique_values\": 3,\n        \"semantic_type\": \"\",\n        \"description\": \"\"\n      }\n    }\n  ]\n}"
            }
          },
          "metadata": {},
          "execution_count": 25
        }
      ]
    },
    {
      "cell_type": "markdown",
      "source": [
        "#### Estudiaremos la distribución de la variable sepal-length"
      ],
      "metadata": {
        "id": "PTCbTExXFfM9"
      }
    },
    {
      "cell_type": "code",
      "source": [
        "# Graficamos la distribución de la varianza de la variable sepal-length\n",
        "\n",
        "plt.hist(iris['sepal-length'], color = 'orange', bins = int(180/5))"
      ],
      "metadata": {
        "colab": {
          "base_uri": "https://localhost:8080/",
          "height": 552
        },
        "id": "iFVDIK2zFoAV",
        "outputId": "105da927-4887-4fa7-9224-a91d9df6d0d8"
      },
      "execution_count": null,
      "outputs": [
        {
          "output_type": "execute_result",
          "data": {
            "text/plain": [
              "(array([ 1.,  3.,  1.,  4.,  2.,  5.,  6., 10.,  9.,  4.,  1.,  6.,  7.,\n",
              "         6.,  8.,  7.,  3.,  6.,  6., 13.,  0.,  7.,  5.,  2., 11.,  0.,\n",
              "         4.,  2.,  0.,  4.,  0.,  1.,  1.,  4.,  0.,  1.]),\n",
              " array([4.3, 4.4, 4.5, 4.6, 4.7, 4.8, 4.9, 5. , 5.1, 5.2, 5.3, 5.4, 5.5,\n",
              "        5.6, 5.7, 5.8, 5.9, 6. , 6.1, 6.2, 6.3, 6.4, 6.5, 6.6, 6.7, 6.8,\n",
              "        6.9, 7. , 7.1, 7.2, 7.3, 7.4, 7.5, 7.6, 7.7, 7.8, 7.9]),\n",
              " <BarContainer object of 36 artists>)"
            ]
          },
          "metadata": {},
          "execution_count": 26
        },
        {
          "output_type": "display_data",
          "data": {
            "text/plain": [
              "<Figure size 640x480 with 1 Axes>"
            ],
            "image/png": "[encoded data removed]"
          },
          "metadata": {}
        }
      ]
    },
    {
      "cell_type": "code",
      "source": [
        "# Vamos a asegurarnos que la variable sepal-length distribución de la vrianza sea una distribución normal con seaborn\n",
        "# mediante un gráfico de kernel\n",
        "\n",
        "sns.histplot(iris['sepal-length'], kde=True, kde_kws=dict(cut=3), stat='density', bins=int(180/5), color='orange')"
      ],
      "metadata": {
        "colab": {
          "base_uri": "https://localhost:8080/",
          "height": 466
        },
        "id": "0_23bGedFkzu",
        "outputId": "5db2d6b9-2b47-4473-e1ec-06bc9a9c046b"
      },
      "execution_count": null,
      "outputs": [
        {
          "output_type": "execute_result",
          "data": {
            "text/plain": [
              "<Axes: xlabel='sepal-length', ylabel='Density'>"
            ]
          },
          "metadata": {},
          "execution_count": 27
        },
        {
          "output_type": "display_data",
          "data": {
            "text/plain": [
              "<Figure size 640x480 with 1 Axes>"
            ],
            "image/png": "[encoded data removed]"
          },
          "metadata": {}
        }
      ]
    },
    {
      "cell_type": "markdown",
      "source": [
        "### Cálculo de la Varianza"
      ],
      "metadata": {
        "id": "KXLuBSnYTUqy"
      }
    },
    {
      "cell_type": "markdown",
      "source": [
        "![formula_3ebeb5fb-19a0-4fe5-a6ec-20b5505fdcfa.webp](data:image/webp;base64,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)"
      ],
      "metadata": {
        "id": "30hJ-9AKTF9R"
      }
    },
    {
      "cell_type": "code",
      "source": [
        "iris['sepal-length'].var()"
      ],
      "metadata": {
        "colab": {
          "base_uri": "https://localhost:8080/"
        },
        "id": "EdrB6kMCTb-p",
        "outputId": "fa7a3165-f83c-4a46-c9d7-c867f568d53b"
      },
      "execution_count": 30,
      "outputs": [
        {
          "output_type": "execute_result",
          "data": {
            "text/plain": [
              "0.6856935123042507"
            ]
          },
          "metadata": {},
          "execution_count": 30
        }
      ]
    },
    {
      "cell_type": "markdown",
      "source": [
        "### Cálculo de la Desviación Estándar"
      ],
      "metadata": {
        "id": "rO1sZ4CDU0d3"
      }
    },
    {
      "cell_type": "markdown",
      "source": [
        "![image.png](data:image/png;base64,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)"
      ],
      "metadata": {
        "id": "E7YhKGa8TmUP"
      }
    },
    {
      "cell_type": "code",
      "source": [
        "iris['sepal-length'].std()"
      ],
      "metadata": {
        "colab": {
          "base_uri": "https://localhost:8080/"
        },
        "id": "xBiEEV-RUv9S",
        "outputId": "a67c3f9d-1399-4091-a99d-83d28cf9f9a1"
      },
      "execution_count": 31,
      "outputs": [
        {
          "output_type": "execute_result",
          "data": {
            "text/plain": [
              "0.828066127977863"
            ]
          },
          "metadata": {},
          "execution_count": 31
        }
      ]
    },
    {
      "cell_type": "code",
      "source": [
        "# Verificamos la media\n",
        "\n",
        "iris['sepal-length'].mean()\n",
        "\n",
        "# podemos concluir que presenta un varianza y desviación estandar elevadas casi del 20%"
      ],
      "metadata": {
        "colab": {
          "base_uri": "https://localhost:8080/"
        },
        "id": "-FD0jIUYYwTC",
        "outputId": "59b8022a-325c-4bb2-a962-ffba7a0b7707"
      },
      "execution_count": 33,
      "outputs": [
        {
          "output_type": "execute_result",
          "data": {
            "text/plain": [
              "5.843333333333334"
            ]
          },
          "metadata": {},
          "execution_count": 33
        }
      ]
    },
    {
      "cell_type": "markdown",
      "source": [
        "### Creación de una muestra mediante Muestreo Alearorio Simple"
      ],
      "metadata": {
        "id": "pLz6X9A4ZOz4"
      }
    },
    {
      "cell_type": "code",
      "source": [
        "# Sacamos una muestra aleatoria del df iris con el 50% de los datos\n",
        "\n",
        "muestra = iris.sample(frac=0.5)\n",
        "muestra"
      ],
      "metadata": {
        "colab": {
          "base_uri": "https://localhost:8080/",
          "height": 424
        },
        "id": "qHZTUsgEZUtn",
        "outputId": "f4ea9a88-0871-488f-a3d0-44b12b7265df"
      },
      "execution_count": 37,
      "outputs": [
        {
          "output_type": "execute_result",
          "data": {
            "text/plain": [
              "     sepal-length  sepal-width  petal-length  petal-width            class\n",
              "71            6.1          2.8           4.0          1.3  Iris-versicolor\n",
              "41            4.5          2.3           1.3          0.3      Iris-setosa\n",
              "29            4.7          3.2           1.6          0.2      Iris-setosa\n",
              "145           6.7          3.0           5.2          2.3   Iris-virginica\n",
              "72            6.3          2.5           4.9          1.5  Iris-versicolor\n",
              "..            ...          ...           ...          ...              ...\n",
              "141           6.9          3.1           5.1          2.3   Iris-virginica\n",
              "109           7.2          3.6           6.1          2.5   Iris-virginica\n",
              "88            5.6          3.0           4.1          1.3  Iris-versicolor\n",
              "101           5.8          2.7           5.1          1.9   Iris-virginica\n",
              "31            5.4          3.4           1.5          0.4      Iris-setosa\n",
              "\n",
              "[75 rows x 5 columns]"
            ],
            "text/html": [
              "\n",
              "  <div id=\"df-6919375f-1e90-4507-a681-ca87d537611f\" class=\"colab-df-container\">\n",
              "    <div>\n",
              "<style scoped>\n",
              "    .dataframe tbody tr th:only-of-type {\n",
              "        vertical-align: middle;\n",
              "    }\n",
              "\n",
              "    .dataframe tbody tr th {\n",
              "        vertical-align: top;\n",
              "    }\n",
              "\n",
              "    .dataframe thead th {\n",
              "        text-align: right;\n",
              "    }\n",
              "</style>\n",
              "<table border=\"1\" class=\"dataframe\">\n",
              "  <thead>\n",
              "    <tr style=\"text-align: right;\">\n",
              "      <th></th>\n",
              "      <th>sepal-length</th>\n",
              "      <th>sepal-width</th>\n",
              "      <th>petal-length</th>\n",
              "      <th>petal-width</th>\n",
              "      <th>class</th>\n",
              "    </tr>\n",
              "  </thead>\n",
              "  <tbody>\n",
              "    <tr>\n",
              "      <th>71</th>\n",
              "      <td>6.1</td>\n",
              "      <td>2.8</td>\n",
              "      <td>4.0</td>\n",
              "      <td>1.3</td>\n",
              "      <td>Iris-versicolor</td>\n",
              "    </tr>\n",
              "    <tr>\n",
              "      <th>41</th>\n",
              "      <td>4.5</td>\n",
              "      <td>2.3</td>\n",
              "      <td>1.3</td>\n",
              "      <td>0.3</td>\n",
              "      <td>Iris-setosa</td>\n",
              "    </tr>\n",
              "    <tr>\n",
              "      <th>29</th>\n",
              "      <td>4.7</td>\n",
              "      <td>3.2</td>\n",
              "      <td>1.6</td>\n",
              "      <td>0.2</td>\n",
              "      <td>Iris-setosa</td>\n",
              "    </tr>\n",
              "    <tr>\n",
              "      <th>145</th>\n",
              "      <td>6.7</td>\n",
              "      <td>3.0</td>\n",
              "      <td>5.2</td>\n",
              "      <td>2.3</td>\n",
              "      <td>Iris-virginica</td>\n",
              "    </tr>\n",
              "    <tr>\n",
              "      <th>72</th>\n",
              "      <td>6.3</td>\n",
              "      <td>2.5</td>\n",
              "      <td>4.9</td>\n",
              "      <td>1.5</td>\n",
              "      <td>Iris-versicolor</td>\n",
              "    </tr>\n",
              "    <tr>\n",
              "      <th>...</th>\n",
              "      <td>...</td>\n",
              "      <td>...</td>\n",
              "      <td>...</td>\n",
              "      <td>...</td>\n",
              "      <td>...</td>\n",
              "    </tr>\n",
              "    <tr>\n",
              "      <th>141</th>\n",
              "      <td>6.9</td>\n",
              "      <td>3.1</td>\n",
              "      <td>5.1</td>\n",
              "      <td>2.3</td>\n",
              "      <td>Iris-virginica</td>\n",
              "    </tr>\n",
              "    <tr>\n",
              "      <th>109</th>\n",
              "      <td>7.2</td>\n",
              "      <td>3.6</td>\n",
              "      <td>6.1</td>\n",
              "      <td>2.5</td>\n",
              "      <td>Iris-virginica</td>\n",
              "    </tr>\n",
              "    <tr>\n",
              "      <th>88</th>\n",
              "      <td>5.6</td>\n",
              "      <td>3.0</td>\n",
              "      <td>4.1</td>\n",
              "      <td>1.3</td>\n",
              "      <td>Iris-versicolor</td>\n",
              "    </tr>\n",
              "    <tr>\n",
              "      <th>101</th>\n",
              "      <td>5.8</td>\n",
              "      <td>2.7</td>\n",
              "      <td>5.1</td>\n",
              "      <td>1.9</td>\n",
              "      <td>Iris-virginica</td>\n",
              "    </tr>\n",
              "    <tr>\n",
              "      <th>31</th>\n",
              "      <td>5.4</td>\n",
              "      <td>3.4</td>\n",
              "      <td>1.5</td>\n",
              "      <td>0.4</td>\n",
              "      <td>Iris-setosa</td>\n",
              "    </tr>\n",
              "  </tbody>\n",
              "</table>\n",
              "<p>75 rows × 5 columns</p>\n",
              "</div>\n",
              "    <div class=\"colab-df-buttons\">\n",
              "\n",
              "  <div class=\"colab-df-container\">\n",
              "    <button class=\"colab-df-convert\" onclick=\"convertToInteractive('df-6919375f-1e90-4507-a681-ca87d537611f')\"\n",
              "            title=\"Convert this dataframe to an interactive table.\"\n",
              "            style=\"display:none;\">\n",
              "\n",
              "  <svg xmlns=\"http://www.w3.org/2000/svg\" height=\"24px\" viewBox=\"0 -960 960 960\">\n",
              "    <path d=\"M120-120v-720h720v720H120Zm60-500h600v-160H180v160Zm220 220h160v-160H400v160Zm0 220h160v-160H400v160ZM180-400h160v-160H180v160Zm440 0h160v-160H620v160ZM180-180h160v-160H180v160Zm440 0h160v-160H620v160Z\"/>\n",
              "  </svg>\n",
              "    </button>\n",
              "\n",
              "  <style>\n",
              "    .colab-df-container {\n",
              "      display:flex;\n",
              "      gap: 12px;\n",
              "    }\n",
              "\n",
              "    .colab-df-convert {\n",
              "      background-color: #E8F0FE;\n",
              "      border: none;\n",
              "      border-radius: 50%;\n",
              "      cursor: pointer;\n",
              "      display: none;\n",
              "      fill: #1967D2;\n",
              "      height: 32px;\n",
              "      padding: 0 0 0 0;\n",
              "      width: 32px;\n",
              "    }\n",
              "\n",
              "    .colab-df-convert:hover {\n",
              "      background-color: #E2EBFA;\n",
              "      box-shadow: 0px 1px 2px rgba(60, 64, 67, 0.3), 0px 1px 3px 1px rgba(60, 64, 67, 0.15);\n",
              "      fill: #174EA6;\n",
              "    }\n",
              "\n",
              "    .colab-df-buttons div {\n",
              "      margin-bottom: 4px;\n",
              "    }\n",
              "\n",
              "    [theme=dark] .colab-df-convert {\n",
              "      background-color: #3B4455;\n",
              "      fill: #D2E3FC;\n",
              "    }\n",
              "\n",
              "    [theme=dark] .colab-df-convert:hover {\n",
              "      background-color: #434B5C;\n",
              "      box-shadow: 0px 1px 3px 1px rgba(0, 0, 0, 0.15);\n",
              "      filter: drop-shadow(0px 1px 2px rgba(0, 0, 0, 0.3));\n",
              "      fill: #FFFFFF;\n",
              "    }\n",
              "  </style>\n",
              "\n",
              "    <script>\n",
              "      const buttonEl =\n",
              "        document.querySelector('#df-6919375f-1e90-4507-a681-ca87d537611f button.colab-df-convert');\n",
              "      buttonEl.style.display =\n",
              "        google.colab.kernel.accessAllowed ? 'block' : 'none';\n",
              "\n",
              "      async function convertToInteractive(key) {\n",
              "        const element = document.querySelector('#df-6919375f-1e90-4507-a681-ca87d537611f');\n",
              "        const dataTable =\n",
              "          await google.colab.kernel.invokeFunction('convertToInteractive',\n",
              "                                                    [key], {});\n",
              "        if (!dataTable) return;\n",
              "\n",
              "        const docLinkHtml = 'Like what you see? Visit the ' +\n",
              "          '<a target=\"_blank\" href=https://colab.research.google.com/notebooks/data_table.ipynb>data table notebook</a>'\n",
              "          + ' to learn more about interactive tables.';\n",
              "        element.innerHTML = '';\n",
              "        dataTable['output_type'] = 'display_data';\n",
              "        await google.colab.output.renderOutput(dataTable, element);\n",
              "        const docLink = document.createElement('div');\n",
              "        docLink.innerHTML = docLinkHtml;\n",
              "        element.appendChild(docLink);\n",
              "      }\n",
              "    </script>\n",
              "  </div>\n",
              "\n",
              "\n",
              "<div id=\"df-057f46d1-d5fc-4bf7-a7f2-45c982905e2e\">\n",
              "  <button class=\"colab-df-quickchart\" onclick=\"quickchart('df-057f46d1-d5fc-4bf7-a7f2-45c982905e2e')\"\n",
              "            title=\"Suggest charts\"\n",
              "            style=\"display:none;\">\n",
              "\n",
              "<svg xmlns=\"http://www.w3.org/2000/svg\" height=\"24px\"viewBox=\"0 0 24 24\"\n",
              "     width=\"24px\">\n",
              "    <g>\n",
              "        <path d=\"M19 3H5c-1.1 0-2 .9-2 2v14c0 1.1.9 2 2 2h14c1.1 0 2-.9 2-2V5c0-1.1-.9-2-2-2zM9 17H7v-7h2v7zm4 0h-2V7h2v10zm4 0h-2v-4h2v4z\"/>\n",
              "    </g>\n",
              "</svg>\n",
              "  </button>\n",
              "\n",
              "<style>\n",
              "  .colab-df-quickchart {\n",
              "      --bg-color: #E8F0FE;\n",
              "      --fill-color: #1967D2;\n",
              "      --hover-bg-color: #E2EBFA;\n",
              "      --hover-fill-color: #174EA6;\n",
              "      --disabled-fill-color: #AAA;\n",
              "      --disabled-bg-color: #DDD;\n",
              "  }\n",
              "\n",
              "  [theme=dark] .colab-df-quickchart {\n",
              "      --bg-color: #3B4455;\n",
              "      --fill-color: #D2E3FC;\n",
              "      --hover-bg-color: #434B5C;\n",
              "      --hover-fill-color: #FFFFFF;\n",
              "      --disabled-bg-color: #3B4455;\n",
              "      --disabled-fill-color: #666;\n",
              "  }\n",
              "\n",
              "  .colab-df-quickchart {\n",
              "    background-color: var(--bg-color);\n",
              "    border: none;\n",
              "    border-radius: 50%;\n",
              "    cursor: pointer;\n",
              "    display: none;\n",
              "    fill: var(--fill-color);\n",
              "    height: 32px;\n",
              "    padding: 0;\n",
              "    width: 32px;\n",
              "  }\n",
              "\n",
              "  .colab-df-quickchart:hover {\n",
              "    background-color: var(--hover-bg-color);\n",
              "    box-shadow: 0 1px 2px rgba(60, 64, 67, 0.3), 0 1px 3px 1px rgba(60, 64, 67, 0.15);\n",
              "    fill: var(--button-hover-fill-color);\n",
              "  }\n",
              "\n",
              "  .colab-df-quickchart-complete:disabled,\n",
              "  .colab-df-quickchart-complete:disabled:hover {\n",
              "    background-color: var(--disabled-bg-color);\n",
              "    fill: var(--disabled-fill-color);\n",
              "    box-shadow: none;\n",
              "  }\n",
              "\n",
              "  .colab-df-spinner {\n",
              "    border: 2px solid var(--fill-color);\n",
              "    border-color: transparent;\n",
              "    border-bottom-color: var(--fill-color);\n",
              "    animation:\n",
              "      spin 1s steps(1) infinite;\n",
              "  }\n",
              "\n",
              "  @keyframes spin {\n",
              "    0% {\n",
              "      border-color: transparent;\n",
              "      border-bottom-color: var(--fill-color);\n",
              "      border-left-color: var(--fill-color);\n",
              "    }\n",
              "    20% {\n",
              "      border-color: transparent;\n",
              "      border-left-color: var(--fill-color);\n",
              "      border-top-color: var(--fill-color);\n",
              "    }\n",
              "    30% {\n",
              "      border-color: transparent;\n",
              "      border-left-color: var(--fill-color);\n",
              "      border-top-color: var(--fill-color);\n",
              "      border-right-color: var(--fill-color);\n",
              "    }\n",
              "    40% {\n",
              "      border-color: transparent;\n",
              "      border-right-color: var(--fill-color);\n",
              "      border-top-color: var(--fill-color);\n",
              "    }\n",
              "    60% {\n",
              "      border-color: transparent;\n",
              "      border-right-color: var(--fill-color);\n",
              "    }\n",
              "    80% {\n",
              "      border-color: transparent;\n",
              "      border-right-color: var(--fill-color);\n",
              "      border-bottom-color: var(--fill-color);\n",
              "    }\n",
              "    90% {\n",
              "      border-color: transparent;\n",
              "      border-bottom-color: var(--fill-color);\n",
              "    }\n",
              "  }\n",
              "</style>\n",
              "\n",
              "  <script>\n",
              "    async function quickchart(key) {\n",
              "      const quickchartButtonEl =\n",
              "        document.querySelector('#' + key + ' button');\n",
              "      quickchartButtonEl.disabled = true;  // To prevent multiple clicks.\n",
              "      quickchartButtonEl.classList.add('colab-df-spinner');\n",
              "      try {\n",
              "        const charts = await google.colab.kernel.invokeFunction(\n",
              "            'suggestCharts', [key], {});\n",
              "      } catch (error) {\n",
              "        console.error('Error during call to suggestCharts:', error);\n",
              "      }\n",
              "      quickchartButtonEl.classList.remove('colab-df-spinner');\n",
              "      quickchartButtonEl.classList.add('colab-df-quickchart-complete');\n",
              "    }\n",
              "    (() => {\n",
              "      let quickchartButtonEl =\n",
              "        document.querySelector('#df-057f46d1-d5fc-4bf7-a7f2-45c982905e2e button');\n",
              "      quickchartButtonEl.style.display =\n",
              "        google.colab.kernel.accessAllowed ? 'block' : 'none';\n",
              "    })();\n",
              "  </script>\n",
              "</div>\n",
              "\n",
              "  <div id=\"id_8225dd0e-5594-48db-b14c-dd5f2435f63e\">\n",
              "    <style>\n",
              "      .colab-df-generate {\n",
              "        background-color: #E8F0FE;\n",
              "        border: none;\n",
              "        border-radius: 50%;\n",
              "        cursor: pointer;\n",
              "        display: none;\n",
              "        fill: #1967D2;\n",
              "        height: 32px;\n",
              "        padding: 0 0 0 0;\n",
              "        width: 32px;\n",
              "      }\n",
              "\n",
              "      .colab-df-generate:hover {\n",
              "        background-color: #E2EBFA;\n",
              "        box-shadow: 0px 1px 2px rgba(60, 64, 67, 0.3), 0px 1px 3px 1px rgba(60, 64, 67, 0.15);\n",
              "        fill: #174EA6;\n",
              "      }\n",
              "\n",
              "      [theme=dark] .colab-df-generate {\n",
              "        background-color: #3B4455;\n",
              "        fill: #D2E3FC;\n",
              "      }\n",
              "\n",
              "      [theme=dark] .colab-df-generate:hover {\n",
              "        background-color: #434B5C;\n",
              "        box-shadow: 0px 1px 3px 1px rgba(0, 0, 0, 0.15);\n",
              "        filter: drop-shadow(0px 1px 2px rgba(0, 0, 0, 0.3));\n",
              "        fill: #FFFFFF;\n",
              "      }\n",
              "    </style>\n",
              "    <button class=\"colab-df-generate\" onclick=\"generateWithVariable('muestra')\"\n",
              "            title=\"Generate code using this dataframe.\"\n",
              "            style=\"display:none;\">\n",
              "\n",
              "  <svg xmlns=\"http://www.w3.org/2000/svg\" height=\"24px\"viewBox=\"0 0 24 24\"\n",
              "       width=\"24px\">\n",
              "    <path d=\"M7,19H8.4L18.45,9,17,7.55,7,17.6ZM5,21V16.75L18.45,3.32a2,2,0,0,1,2.83,0l1.4,1.43a1.91,1.91,0,0,1,.58,1.4,1.91,1.91,0,0,1-.58,1.4L9.25,21ZM18.45,9,17,7.55Zm-12,3A5.31,5.31,0,0,0,4.9,8.1,5.31,5.31,0,0,0,1,6.5,5.31,5.31,0,0,0,4.9,4.9,5.31,5.31,0,0,0,6.5,1,5.31,5.31,0,0,0,8.1,4.9,5.31,5.31,0,0,0,12,6.5,5.46,5.46,0,0,0,6.5,12Z\"/>\n",
              "  </svg>\n",
              "    </button>\n",
              "    <script>\n",
              "      (() => {\n",
              "      const buttonEl =\n",
              "        document.querySelector('#id_8225dd0e-5594-48db-b14c-dd5f2435f63e button.colab-df-generate');\n",
              "      buttonEl.style.display =\n",
              "        google.colab.kernel.accessAllowed ? 'block' : 'none';\n",
              "\n",
              "      buttonEl.onclick = () => {\n",
              "        google.colab.notebook.generateWithVariable('muestra');\n",
              "      }\n",
              "      })();\n",
              "    </script>\n",
              "  </div>\n",
              "\n",
              "    </div>\n",
              "  </div>\n"
            ],
            "application/vnd.google.colaboratory.intrinsic+json": {
              "type": "dataframe",
              "variable_name": "muestra",
              "summary": "{\n  \"name\": \"muestra\",\n  \"rows\": 75,\n  \"fields\": [\n    {\n      \"column\": \"sepal-length\",\n      \"properties\": {\n        \"dtype\": \"number\",\n        \"std\": 0.7889941138637928,\n        \"min\": 4.4,\n        \"max\": 7.7,\n        \"samples\": [\n          6.2,\n          5.6,\n          7.6\n        ],\n        \"num_unique_values\": 30,\n        \"semantic_type\": \"\",\n        \"description\": \"\"\n      }\n    },\n    {\n      \"column\": \"sepal-width\",\n      \"properties\": {\n        \"dtype\": \"number\",\n        \"std\": 0.4391515160557391,\n        \"min\": 2.3,\n        \"max\": 4.4,\n        \"samples\": [\n          2.8,\n          3.8,\n          4.4\n        ],\n        \"num_unique_values\": 19,\n        \"semantic_type\": \"\",\n        \"description\": \"\"\n      }\n    },\n    {\n      \"column\": \"petal-length\",\n      \"properties\": {\n        \"dtype\": \"number\",\n        \"std\": 1.7021205640066785,\n        \"min\": 1.3,\n        \"max\": 6.7,\n        \"samples\": [\n          5.3,\n          3.0,\n          6.7\n        ],\n        \"num_unique_values\": 31,\n        \"semantic_type\": \"\",\n        \"description\": \"\"\n      }\n    },\n    {\n      \"column\": \"petal-width\",\n      \"properties\": {\n        \"dtype\": \"number\",\n        \"std\": 0.7115064591705696,\n        \"min\": 0.1,\n        \"max\": 2.5,\n        \"samples\": [\n          1.3,\n          0.1,\n          0.6\n        ],\n        \"num_unique_values\": 20,\n        \"semantic_type\": \"\",\n        \"description\": \"\"\n      }\n    },\n    {\n      \"column\": \"class\",\n      \"properties\": {\n        \"dtype\": \"category\",\n        \"samples\": [\n          \"Iris-versicolor\",\n          \"Iris-setosa\",\n          \"Iris-virginica\"\n        ],\n        \"num_unique_values\": 3,\n        \"semantic_type\": \"\",\n        \"description\": \"\"\n      }\n    }\n  ]\n}"
            }
          },
          "metadata": {},
          "execution_count": 37
        }
      ]
    },
    {
      "cell_type": "markdown",
      "source": [
        "### Cálculo de la varianza de la muestra sacada"
      ],
      "metadata": {
        "id": "scKr5SWRZq75"
      }
    },
    {
      "cell_type": "code",
      "source": [
        "muestra['sepal-length'].var()"
      ],
      "metadata": {
        "colab": {
          "base_uri": "https://localhost:8080/"
        },
        "id": "3yWoiWSqZsgp",
        "outputId": "f6931b69-dbce-4a2e-db12-dbccfb27d073"
      },
      "execution_count": 36,
      "outputs": [
        {
          "output_type": "execute_result",
          "data": {
            "text/plain": [
              "0.7470270270270271"
            ]
          },
          "metadata": {},
          "execution_count": 36
        }
      ]
    },
    {
      "cell_type": "markdown",
      "source": [
        "### Cálculo de la Desviación Estándar de la muestra sacada"
      ],
      "metadata": {
        "id": "tZ6rfIkUaBB8"
      }
    },
    {
      "cell_type": "code",
      "source": [
        "muestra['sepal-length'].std()"
      ],
      "metadata": {
        "colab": {
          "base_uri": "https://localhost:8080/"
        },
        "id": "BFTDzR8waHRZ",
        "outputId": "f3ca6b57-f400-4a8e-eca7-ea3a9800fbc5"
      },
      "execution_count": 38,
      "outputs": [
        {
          "output_type": "execute_result",
          "data": {
            "text/plain": [
              "0.7889941138637928"
            ]
          },
          "metadata": {},
          "execution_count": 38
        }
      ]
    },
    {
      "cell_type": "code",
      "source": [
        "muestra['sepal-length'].mean()\n",
        "\n",
        "# Podemos concluir que la muestra sacada tiene una varianza y desviación estandar elevadas"
      ],
      "metadata": {
        "colab": {
          "base_uri": "https://localhost:8080/"
        },
        "id": "3I2a3HJRfneF",
        "outputId": "e7c79f41-178f-4b01-cb0c-63b1ab1f0a48"
      },
      "execution_count": 40,
      "outputs": [
        {
          "output_type": "execute_result",
          "data": {
            "text/plain": [
              "5.945333333333334"
            ]
          },
          "metadata": {},
          "execution_count": 40
        }
      ]
    },
    {
      "cell_type": "code",
      "source": [],
      "metadata": {
        "id": "0R6_db_nfsVF"
      },
      "execution_count": null,
      "outputs": []
    }
  ]
}