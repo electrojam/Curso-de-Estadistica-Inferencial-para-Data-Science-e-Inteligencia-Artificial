{
  "nbformat": 4,
  "nbformat_minor": 0,
  "metadata": {
    "colab": {
      "provenance": [],
      "authorship_tag": "ABX9TyOt52+4tfP1Zh5TZtc/gPYf",
      "include_colab_link": true
    },
    "kernelspec": {
      "name": "python3",
      "display_name": "Python 3"
    },
    "language_info": {
      "name": "python"
    }
  },
  "cells": [
    {
      "cell_type": "markdown",
      "metadata": {
        "id": "view-in-github",
        "colab_type": "text"
      },
      "source": [
        "<a href=\"https://colab.research.google.com/github/electrojam/Curso-de-Estadistica-Inferencial-para-Data-Science-e-Inteligencia-Artificial/blob/main/Bootstrapping_en_Python.ipynb\" target=\"_parent\"><img src=\"https://colab.research.google.com/assets/colab-badge.svg\" alt=\"Open In Colab\"/></a>"
      ]
    },
    {
      "cell_type": "markdown",
      "source": [
        "### Importamos las librerías necesarias para el análisis"
      ],
      "metadata": {
        "id": "gQWapjUBmhPD"
      }
    },
    {
      "cell_type": "code",
      "source": [
        "import pandas as pd\n",
        "import numpy as np\n",
        "import random"
      ],
      "metadata": {
        "id": "ZYfp7b2qmjGq"
      },
      "execution_count": 1,
      "outputs": []
    },
    {
      "cell_type": "code",
      "source": [
        "#Creamos arrgelo random con 10000 datos, con media de 34.\n",
        "\n",
        "data = np.random.normal(loc = 34, size = 10000)\n",
        "data"
      ],
      "metadata": {
        "colab": {
          "base_uri": "https://localhost:8080/"
        },
        "id": "d6kHbSJt_Dht",
        "outputId": "35eb0651-0620-42d5-c203-0f73316282a8"
      },
      "execution_count": 16,
      "outputs": [
        {
          "output_type": "execute_result",
          "data": {
            "text/plain": [
              "array([35.00289745, 33.62117472, 34.05591464, ..., 32.94582736,\n",
              "       34.31227459, 34.99794882])"
            ]
          },
          "metadata": {},
          "execution_count": 16
        }
      ]
    },
    {
      "cell_type": "code",
      "source": [
        "# Vamos a validar el promedio\n",
        "\n",
        "data.mean()"
      ],
      "metadata": {
        "colab": {
          "base_uri": "https://localhost:8080/"
        },
        "id": "nwcYDTPz_Jxn",
        "outputId": "c9c90abc-d4af-4e98-d1b8-771ff39f8cdf"
      },
      "execution_count": 4,
      "outputs": [
        {
          "output_type": "execute_result",
          "data": {
            "text/plain": [
              "33.98818918501693"
            ]
          },
          "metadata": {},
          "execution_count": 4
        }
      ]
    },
    {
      "cell_type": "markdown",
      "source": [
        "### Iniciamos bootstrapping para calcular el promedio de edades"
      ],
      "metadata": {
        "id": "51tgEFJ__gS5"
      }
    },
    {
      "cell_type": "code",
      "source": [
        "# tomamos una muestra a 40 grupos de a 5 datos\n",
        "\n",
        "promedio = []\n",
        "for i in range(40):\n",
        "  muestra = random.sample(data.tolist(), 5)\n",
        "  prom = np.mean(muestra)\n",
        "  promedio.append(prom)\n",
        "\n",
        "promedio"
      ],
      "metadata": {
        "colab": {
          "base_uri": "https://localhost:8080/"
        },
        "id": "H8E2CSk4_kJI",
        "outputId": "ea0f23c4-688f-45b5-ab52-8e4bd8e046b0"
      },
      "execution_count": 12,
      "outputs": [
        {
          "output_type": "execute_result",
          "data": {
            "text/plain": [
              "[33.40754022468168,\n",
              " 33.5622961809491,\n",
              " 33.502023029122086,\n",
              " 34.27977699338352,\n",
              " 34.051028958109086,\n",
              " 33.80195252261781,\n",
              " 33.923224310982526,\n",
              " 33.81342227939932,\n",
              " 33.311390074327264,\n",
              " 34.0027145492869,\n",
              " 33.86977330595132,\n",
              " 34.053335097833916,\n",
              " 34.37801002998665,\n",
              " 34.203438166396495,\n",
              " 34.622581434422635,\n",
              " 33.57686243429045,\n",
              " 33.4503443846224,\n",
              " 33.70745745561969,\n",
              " 33.62832762689916,\n",
              " 33.42117705594796,\n",
              " 34.02720849348925,\n",
              " 33.773557903357805,\n",
              " 33.83428581755878,\n",
              " 34.23761661044351,\n",
              " 33.80091494288464,\n",
              " 33.01078991103369,\n",
              " 33.74734586866829,\n",
              " 34.019559697438794,\n",
              " 34.49113183685033,\n",
              " 34.895988398810374,\n",
              " 33.709067063041175,\n",
              " 34.38024014764736,\n",
              " 33.76599656404685,\n",
              " 33.967011418020604,\n",
              " 33.96152307475818,\n",
              " 34.46517169198554,\n",
              " 33.89035277976724,\n",
              " 33.61969497225233,\n",
              " 34.163989037918995,\n",
              " 34.35338913632932]"
            ]
          },
          "metadata": {},
          "execution_count": 12
        }
      ]
    },
    {
      "cell_type": "code",
      "source": [
        "# Hallaremos el valor promedio de las 40 muestras\n",
        "\n",
        "np.mean(promedio)"
      ],
      "metadata": {
        "colab": {
          "base_uri": "https://localhost:8080/"
        },
        "id": "R62cW8pJADcc",
        "outputId": "3a2e0767-95bf-487f-8f1e-ee729b82644c"
      },
      "execution_count": 6,
      "outputs": [
        {
          "output_type": "execute_result",
          "data": {
            "text/plain": [
              "33.98156062023039"
            ]
          },
          "metadata": {},
          "execution_count": 6
        }
      ]
    },
    {
      "cell_type": "markdown",
      "source": [
        "##### Reto: Muestra de 100, en grupos de 10"
      ],
      "metadata": {
        "id": "vid8hdBNAZr1"
      }
    },
    {
      "cell_type": "code",
      "source": [
        "# tomamos una muestra de 100 grupos de a 10 datos y sacamos el promedio\n",
        "\n",
        "promedio_reto = []\n",
        "for i in range(100):\n",
        "  muestra_reto = random.sample(data.tolist(), 10)\n",
        "  prom_reto = np.mean(muestra_reto)\n",
        "  promedio_reto.append(prom_reto)"
      ],
      "metadata": {
        "id": "dR2uD-7SAeSs"
      },
      "execution_count": 14,
      "outputs": []
    },
    {
      "cell_type": "code",
      "source": [
        "np.mean(promedio_reto)"
      ],
      "metadata": {
        "colab": {
          "base_uri": "https://localhost:8080/"
        },
        "id": "243HC50aB0PA",
        "outputId": "f8dc5065-3025-4d6e-8e0f-f6231ee2ddbe"
      },
      "execution_count": 15,
      "outputs": [
        {
          "output_type": "execute_result",
          "data": {
            "text/plain": [
              "34.01462902956878"
            ]
          },
          "metadata": {},
          "execution_count": 15
        }
      ]
    }
  ]
}